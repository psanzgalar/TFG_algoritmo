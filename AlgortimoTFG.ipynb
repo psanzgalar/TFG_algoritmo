{
  "nbformat": 4,
  "nbformat_minor": 0,
  "metadata": {
    "colab": {
      "name": "AlgortimoTFG.ipynb",
      "provenance": [],
      "collapsed_sections": [],
      "include_colab_link": true
    },
    "kernelspec": {
      "name": "python3",
      "display_name": "Python 3"
    },
    "language_info": {
      "name": "python"
    }
  },
  "cells": [
    {
      "cell_type": "markdown",
      "metadata": {
        "id": "view-in-github",
        "colab_type": "text"
      },
      "source": [
        "<a href=\"https://colab.research.google.com/github/psanzgalar/TFG_algoritmo/blob/main/AlgortimoTFG.ipynb\" target=\"_parent\"><img src=\"https://colab.research.google.com/assets/colab-badge.svg\" alt=\"Open In Colab\"/></a>"
      ]
    },
    {
      "cell_type": "markdown",
      "source": [
        "Intentaremos implementar los algoritmos creados en el capítulo 3 de mi tfg.\n",
        "\n",
        "Tendremos en cuenta lo siguiente:\n",
        "\n",
        "Los complejos simpliciales serán vectores de strings, los vértices serán v0, v1,..., vn y los combinaremos de la siguiente forma v0_vi_vj\n",
        "\n",
        "Las funciónes serán diccionarios clave valor\n",
        "\n",
        "Es importante pasar los símplices ordenados, es decir el símplice v1_v2_v3 se deberá pasar así y no como v2_v1_v3 por ejemplo"
      ],
      "metadata": {
        "id": "T29-HdYdnihR"
      }
    },
    {
      "cell_type": "code",
      "execution_count": null,
      "metadata": {
        "id": "8dHWbLaElneA"
      },
      "outputs": [],
      "source": [
        "def Extract(k, f, p):\n",
        "  resul=ExtractRaw(k,f)\n",
        "  A=resul[0]\n",
        "  B=resul[1]\n",
        "  C=resul[2]\n",
        "  r=resul[3]\n",
        "  j=1\n",
        "  dim=dimension(k)\n",
        "  while j<=dim:\n",
        "    resul=ExtractCancel(k,f,j,p,A,B,C,r)\n",
        "    A=resul[0]\n",
        "    B=resul[1]\n",
        "    C=resul[2]\n",
        "    r=resul[3]\n",
        "    j=j+1\n",
        "  return[A,B,C,r]\n"
      ]
    },
    {
      "cell_type": "code",
      "source": [
        "def dimension(k):\n",
        "  max=0\n",
        "  for e in k:\n",
        "    if(len(e.split(\"_\"))>max):\n",
        "      max=len(e.split(\"_\"))-1\n",
        "  return max"
      ],
      "metadata": {
        "id": "q5PGOaZ2B-92"
      },
      "execution_count": null,
      "outputs": []
    },
    {
      "cell_type": "code",
      "source": [
        "def Frecuencia(el,vector):\n",
        "  i=0\n",
        "  for e in vector:\n",
        "    if el==e:\n",
        "      i=i+1\n",
        "  return i"
      ],
      "metadata": {
        "id": "mgonsIqmOycm"
      },
      "execution_count": null,
      "outputs": []
    },
    {
      "cell_type": "code",
      "source": [
        "def iguales(a,b):\n",
        "  for e in a.split(\"_\"):\n",
        "    if(Frecuencia(e,b.split(\"_\"))!=1):\n",
        "      return False\n",
        "  for e in b.split(\"_\"):\n",
        "    if(Frecuencia(e,a.split(\"_\"))!=1):\n",
        "      return False\n",
        "  return True"
      ],
      "metadata": {
        "id": "75NjWq1SMPNY"
      },
      "execution_count": null,
      "outputs": []
    },
    {
      "cell_type": "code",
      "source": [
        "def esta(v,el):\n",
        "  for i in v:\n",
        "    if iguales(i,el):\n",
        "      return True\n",
        "  return False"
      ],
      "metadata": {
        "id": "3UiTZyGyofwp"
      },
      "execution_count": null,
      "outputs": []
    },
    {
      "cell_type": "code",
      "source": [
        "def eliminar_repetidos(k):\n",
        "  k1=[]\n",
        "  for e in k:\n",
        "    if (not esta(k1,e)):\n",
        "      k1.append(e)\n",
        "  return k1"
      ],
      "metadata": {
        "id": "9rkAQHphCrw4"
      },
      "execution_count": null,
      "outputs": []
    },
    {
      "cell_type": "code",
      "source": [
        "def mezclar(k,p):\n",
        "  if(p==1):\n",
        "    return([k[0]])\n",
        "  sub=[]\n",
        "  sub.append(k[0])\n",
        "  el=k[0]\n",
        "  i=1 \n",
        "  while i<p:\n",
        "    sub.append(k[0]+\"_\"+k[i])\n",
        "    k1=[k[0]+\"_\"+k[i]]\n",
        "    j=i+1\n",
        "    while j<p:\n",
        "      k1.append(k[j])\n",
        "      j=j+1\n",
        "    sub2=mezclar(k1,len(k1))\n",
        "    for e in sub2:\n",
        "      sub.append(e)\n",
        "    i=i+1\n",
        "  sub=eliminar_repetidos(sub)\n",
        "  return sub"
      ],
      "metadata": {
        "id": "6cBDU7VXHdic"
      },
      "execution_count": null,
      "outputs": []
    },
    {
      "cell_type": "code",
      "source": [
        "def subsimplices(v):\n",
        "  k=v.split(\"_\")\n",
        "  sub=[]\n",
        "  i=0\n",
        "  while i<len(k):\n",
        "    h=mezclar(k,len(k))\n",
        "    for f in h:\n",
        "      sub.append(f)\n",
        "    k.pop(0)\n",
        "  return sub"
      ],
      "metadata": {
        "id": "iGyzX9WiqD_O"
      },
      "execution_count": null,
      "outputs": []
    },
    {
      "cell_type": "code",
      "source": [
        "def Estrella(v,k):\n",
        "  estrella=[]\n",
        "  for e in k:\n",
        "    if(esta(e.split(\"_\"),v)):\n",
        "      sub=subsimplices(e)\n",
        "      for f in sub:\n",
        "          if(not esta(estrella,f)):\n",
        "            estrella.append(f)\n",
        "  return estrella"
      ],
      "metadata": {
        "id": "vOsosWkuo11d"
      },
      "execution_count": null,
      "outputs": []
    },
    {
      "cell_type": "code",
      "source": [
        "def Link(v,k):\n",
        "  link=[]\n",
        "  for e in k:\n",
        "    if(not esta(e.split(\"_\"),v)):\n",
        "      link.append(e)\n",
        "  return link"
      ],
      "metadata": {
        "id": "6vS8KnilpiMF"
      },
      "execution_count": null,
      "outputs": []
    },
    {
      "cell_type": "code",
      "source": [
        "def Valor(v,f):\n",
        "  k=v.split(\"_\")\n",
        "  valor=f[k[0]]\n",
        "  for e in k:\n",
        "    if valor<f[e]:\n",
        "      valor=f[e]\n",
        "  return valor"
      ],
      "metadata": {
        "id": "0m3NIjzEvNEF"
      },
      "execution_count": null,
      "outputs": []
    },
    {
      "cell_type": "code",
      "source": [
        "def LowerLink(v,k,f):\n",
        "  es=Estrella(v,k)\n",
        "  link=Link(v,es)\n",
        "  lowerlink=[]\n",
        "  for el in link:\n",
        "    if(Valor(el,f)<f[v]):\n",
        "      lowerlink.append(el)\n",
        "  return lowerlink"
      ],
      "metadata": {
        "id": "0GVgSrYFnTGh"
      },
      "execution_count": null,
      "outputs": []
    },
    {
      "cell_type": "code",
      "source": [
        "k=[\"v0\",\"v1\",\"v2\",\"v3\",\"v0_v1\",\"v1_v2\",\"v0_v1_v2\"]\n",
        "es=Estrella(\"v0\",k)\n",
        "print(Link(\"v0\",es))\n",
        "print(es)\n",
        "f={\"v0\":1.5,\"v1\":1,\"v2\":2,\"v3\":3}\n",
        "print(Valor(\"v1_v2\",f))\n",
        "print(LowerLink(\"v0\",k,f))"
      ],
      "metadata": {
        "colab": {
          "base_uri": "https://localhost:8080/"
        },
        "id": "ITbHIh9quA3Q",
        "outputId": "92cf900a-44fc-4127-908d-e1ca86d36caf"
      },
      "execution_count": null,
      "outputs": [
        {
          "output_type": "stream",
          "name": "stdout",
          "text": [
            "['v1', 'v1_v2', 'v2']\n",
            "['v0', 'v0_v1', 'v1', 'v0_v1_v2', 'v0_v2', 'v1_v2', 'v2']\n",
            "2\n",
            "['v1']\n"
          ]
        }
      ]
    },
    {
      "cell_type": "code",
      "source": [
        "def ExtractRaw(k,f):\n",
        "  A=[]\n",
        "  B=[]\n",
        "  C=[]\n",
        "  k0=[]\n",
        "  r={}\n",
        "  for a in k:\n",
        "    if(len(a.split(\"_\"))==1):\n",
        "      k0.append(a)\n",
        "  for v in k0:\n",
        "    lowerlink=LowerLink(v,k,f)\n",
        "    if (len(lowerlink)==0):\n",
        "      C.append(v)\n",
        "    else:\n",
        "      A.append(v)\n",
        "      f0={}\n",
        "      for e in lowerlink:\n",
        "        if(len(e.split(\"_\"))==1):\n",
        "          valor=f[e]\n",
        "          f0[e]=valor\n",
        "      vect=Extract(lowerlink,f0,float('inf'))\n",
        "      A0=vect[0]\n",
        "      B0=vect[1]\n",
        "      C0=vect[2]\n",
        "      r1=vect[3]\n",
        "      min=float('inf') \n",
        "      for e in C0:\n",
        "        if(len(e.split(\"_\"))==1):\n",
        "          if f0[e]<min:\n",
        "            min=f0[e]\n",
        "            w0=e\n",
        "      B.append(v+\"_\"+w0)\n",
        "      r[v+\"_\"+w0]=v\n",
        "      for e in C0:\n",
        "        if e!=w0:\n",
        "          C.append(v+\"_\"+e)\n",
        "      for e in B0:\n",
        "        B.append(v+\"_\"+e)\n",
        "        A.append(v+\"_\"+r1[e])\n",
        "        r[v+\"_\"+e]=v+\"_\"+r1[e]\n",
        "  return([A,B,C,r])\n"
      ],
      "metadata": {
        "id": "Zr3b3DsJlxFz"
      },
      "execution_count": null,
      "outputs": []
    },
    {
      "cell_type": "code",
      "source": [
        "def subir(sigma,r):\n",
        "  for el in r.items():\n",
        "      if iguales(el[1],sigma):\n",
        "        ver=el[0]\n",
        "  return ver"
      ],
      "metadata": {
        "id": "RLRUyTckilHF"
      },
      "execution_count": null,
      "outputs": []
    },
    {
      "cell_type": "code",
      "source": [
        "A=['v7', 'v8', 'v6']\n",
        "B=['v7_v3', 'v8_v0', 'v6_v3']\n",
        "C=['v0', 'v8_v6', 'v3']\n",
        "r={'v7_v3': 'v7', 'v8_v0': 'v8', 'v6_v3': 'v6'}"
      ],
      "metadata": {
        "id": "6Kx3wh8tBV33"
      },
      "execution_count": null,
      "outputs": []
    },
    {
      "cell_type": "code",
      "source": [
        "def CaminosGradientes(A,B,C,r,uptau,sigma):\n",
        "  caminos=[]\n",
        "  if(iguales(uptau,sigma)):\n",
        "    return([[uptau]])\n",
        "  if(len(sigma.split(\"_\"))==len(uptau.split(\"_\"))):#Tenemos que subir\n",
        "    if(esta(A,sigma)):#si sigma esta en A podemos subir\n",
        "    #Buscamos el símplice al que podemos subir\n",
        "      ver=subir(sigma,r)\n",
        "      c=CaminosGradientes(A,B,C,r,uptau,ver)\n",
        "      if (len(c)!=0):\n",
        "        for e in c:\n",
        "          e.insert(0,sigma)\n",
        "          caminos.append(e)\n",
        "      else:\n",
        "        return([])\n",
        "    else:\n",
        "      return([])\n",
        "  else:\n",
        "    sub=subsimplices(sigma)\n",
        "    for e in sub:\n",
        "      if(len(e.split(\"_\"))==len(sigma.split(\"_\"))-1):\n",
        "        if(esta(A,e)):\n",
        "          ver=subir(e,r)\n",
        "          if(not iguales(ver,sigma)):\n",
        "            c=CaminosGradientes(A,B,C,r,uptau,e)\n",
        "            if (len(c)!=0):\n",
        "              for e in c:\n",
        "                e.insert(0,sigma)\n",
        "                caminos.append(e)\n",
        "        else:\n",
        "           c=CaminosGradientes(A,B,C,r,uptau,e)\n",
        "           if (len(c)!=0):\n",
        "              for e in c:\n",
        "                e.insert(0,sigma)\n",
        "                caminos.append(e)\n",
        "  return caminos\n",
        "    "
      ],
      "metadata": {
        "id": "kr2UXhWwbJ0g"
      },
      "execution_count": null,
      "outputs": []
    },
    {
      "cell_type": "code",
      "source": [
        "def generar(vect):\n",
        "  #Generamos el complejo simplicial explicito a partir de las caras maximales\n",
        "  k=[]\n",
        "  for e in vect:\n",
        "    k1=subsimplices(e)\n",
        "    for f in k1:\n",
        "      if not esta(k,f):\n",
        "        k.append(f)\n",
        "  return k"
      ],
      "metadata": {
        "id": "vDp0hro45nak"
      },
      "execution_count": null,
      "outputs": []
    },
    {
      "cell_type": "code",
      "source": [
        "def ordenar(k,tam):\n",
        "  #Ordena los elementos de un complejo simplicial a partir del complejo y su tamaño\n",
        "  i=0\n",
        "  k1=[]\n",
        "  while i<tam+1:\n",
        "    for e in k:\n",
        "      if(len(e.split(\"_\"))==i+1):\n",
        "        k1.append(e)\n",
        "    i=i+1\n",
        "  return k1"
      ],
      "metadata": {
        "id": "nZxKdokD6Kdc"
      },
      "execution_count": null,
      "outputs": []
    },
    {
      "cell_type": "code",
      "source": [
        ""
      ],
      "metadata": {
        "id": "eGcD4wPO8JUz"
      },
      "execution_count": null,
      "outputs": []
    },
    {
      "cell_type": "code",
      "source": [
        "k=generar([\"v2_v4_v5\",\"v0_v4_v5\",\"v0_v1_v6\",\"v0_v4_v6\",\"v2_v3\",\"v3_v4\",\"v3_v6\"])\n",
        "k=ordenar(k,2)\n"
      ],
      "metadata": {
        "id": "xdWjB02BgZRP"
      },
      "execution_count": null,
      "outputs": []
    },
    {
      "cell_type": "code",
      "source": [
        "def Cancel(k,f0,uptau,sigma,j,A,B,C,r):\n",
        "  camino=CaminosGradientes(A,B,C,r,uptau,sigma)\n",
        "  c=camino[0]\n",
        "  B.append(sigma)\n",
        "  A.append(uptau)\n",
        "  C1=[]\n",
        "  for e in C:\n",
        "    if not iguales(e,sigma) and not iguales(e,uptau):\n",
        "      C1.append(e)\n",
        "  i=0\n",
        "  while i<len(c):\n",
        "    r[c[i]]=c[i+1]\n",
        "    i=i+2\n",
        "  return [A,B,C1,r]"
      ],
      "metadata": {
        "id": "L06TANMDmXSq"
      },
      "execution_count": null,
      "outputs": []
    },
    {
      "cell_type": "code",
      "source": [
        "def Min(v):\n",
        "  min=v[0]\n",
        "  for e in v:\n",
        "    if e<min:\n",
        "      min=e\n",
        "  return min"
      ],
      "metadata": {
        "id": "HaEIo1YaD1Y0"
      },
      "execution_count": null,
      "outputs": []
    },
    {
      "cell_type": "code",
      "source": [
        "def ExtractCancel(k,f0,j,p,A,B,C,r):\n",
        "  Cj=[]\n",
        "  for e in C:\n",
        "    if(len(e.split(\"_\"))==j+1):\n",
        "      Cj.append(e)\n",
        "  for sigma in Cj:\n",
        "    Cj1=[]\n",
        "    for e in C:\n",
        "      if(len(e.split(\"_\"))==j):\n",
        "        Cj1.append(e)\n",
        "    camino=[]\n",
        "    finales=[]\n",
        "    m=[]\n",
        "    for sigma2 in Cj1:\n",
        "      c=CaminosGradientes(A,B,C,r,sigma2,sigma)\n",
        "      for e in c:\n",
        "        if (Valor(e[len(e)-1],f0)>(Valor(sigma,f0)-p)):\n",
        "          camino.append(e)\n",
        "          finales.append(e[len(e)-1])\n",
        "    for e in camino:\n",
        "        if Frecuencia(e[len(e)-1],finales)==1:\n",
        "          m.append(Valor(e[len(e)-1],f0))\n",
        "    if len(m)>0:\n",
        "      min=Min(m)\n",
        "      for e in camino:\n",
        "        if Valor(e[len(e)-1],f0)==min and Frecuencia(e[len(e)-1],finales)==1:\n",
        "          uptau=e[len(e)-1]\n",
        "      resul=Cancel(k,f0,uptau,sigma,len(sigma.split(\"_\"))-1,A,B,C,r)\n",
        "      A=resul[0]\n",
        "      B=resul[1]\n",
        "      C=resul[2]\n",
        "      r=resul[3]\n",
        "  return[A,B,C,r]\n",
        "      "
      ],
      "metadata": {
        "id": "FvHInHAl9NFv"
      },
      "execution_count": null,
      "outputs": []
    },
    {
      "cell_type": "code",
      "source": [
        "k=subsimplices(\"v1_v2_v3\")\n",
        "k=ordenar(k,2)\n",
        "for e in k:\n",
        "  print(e)"
      ],
      "metadata": {
        "colab": {
          "base_uri": "https://localhost:8080/"
        },
        "id": "xwH1meeo5awh",
        "outputId": "e86da0e7-49f1-43f7-f55c-bf7d9e4a0804"
      },
      "execution_count": null,
      "outputs": [
        {
          "output_type": "stream",
          "name": "stdout",
          "text": [
            "v1\n",
            "v2\n",
            "v3\n",
            "v1_v2\n",
            "v1_v3\n",
            "v2_v3\n",
            "v1_v2_v3\n"
          ]
        }
      ]
    },
    {
      "cell_type": "markdown",
      "source": [
        "Prueba"
      ],
      "metadata": {
        "id": "YWPc4ADx61NU"
      }
    },
    {
      "cell_type": "markdown",
      "source": [
        "En primer lugar, creamos el toro y compruebo que tiene el mismo c-vector para hacerme a una idea de que no me he equivocado (componente a componente es muy tedioso)"
      ],
      "metadata": {
        "id": "EFfptc2M74xk"
      }
    },
    {
      "cell_type": "code",
      "source": [
        "k=generar([\"v0_v1_v4\",\"v1_v4_v7\",\"v1_v2_v7\",\"v2_v7_v8\",\"v0_v2_v8\",\"v0_v4_v8\",\"v3_v4_v7\",\"v3_v5_v7\",\"v5_v7_v8\",\"v5_v6_v8\",\"v4_v6_v8\",\"v3_v4_v6\",\"v0_v3_v5\",\"v0_v1_v5\",\"v1_v5_v6\",\"v1_v2_v6\",\"v2_v3_v6\",\"v0_v2_v3\"])\n",
        "k=ordenar(k,2)\n",
        "tam=1\n",
        "while tam<4:\n",
        "  j=0\n",
        "  for e in k:\n",
        "    if (len(e.split(\"_\"))==tam):\n",
        "      j=j+1\n",
        "  print(j)\n",
        "  tam=tam+1\n",
        "print(k)\n",
        "print(9+27+18)"
      ],
      "metadata": {
        "colab": {
          "base_uri": "https://localhost:8080/"
        },
        "id": "pjqXoBv25c6H",
        "outputId": "e74b1cc9-8364-47bd-b73d-638996adb621"
      },
      "execution_count": null,
      "outputs": [
        {
          "output_type": "stream",
          "name": "stdout",
          "text": [
            "9\n",
            "27\n",
            "18\n",
            "['v0', 'v1', 'v4', 'v7', 'v2', 'v8', 'v3', 'v5', 'v6', 'v0_v1', 'v0_v4', 'v1_v4', 'v1_v7', 'v4_v7', 'v1_v2', 'v2_v7', 'v2_v8', 'v7_v8', 'v0_v2', 'v0_v8', 'v4_v8', 'v3_v4', 'v3_v7', 'v3_v5', 'v5_v7', 'v5_v8', 'v5_v6', 'v6_v8', 'v4_v6', 'v3_v6', 'v0_v3', 'v0_v5', 'v1_v5', 'v1_v6', 'v2_v6', 'v2_v3', 'v0_v1_v4', 'v1_v4_v7', 'v1_v2_v7', 'v2_v7_v8', 'v0_v2_v8', 'v0_v4_v8', 'v3_v4_v7', 'v3_v5_v7', 'v5_v7_v8', 'v5_v6_v8', 'v4_v6_v8', 'v3_v4_v6', 'v0_v3_v5', 'v0_v1_v5', 'v1_v5_v6', 'v1_v2_v6', 'v2_v3_v6', 'v0_v2_v3']\n",
            "54\n"
          ]
        }
      ]
    },
    {
      "cell_type": "markdown",
      "source": [
        "Creamos f"
      ],
      "metadata": {
        "id": "AuU20bZm-Nqg"
      }
    },
    {
      "cell_type": "code",
      "source": [
        "f={\"v0\":0,\"v1\":80,\"v2\":50,\"v3\":10,\"v4\":70,\"v5\":60,\"v6\":30,\"v7\":20,\"v8\":40}\n",
        "f"
      ],
      "metadata": {
        "colab": {
          "base_uri": "https://localhost:8080/"
        },
        "id": "CQy4RQs9-FXh",
        "outputId": "efe9c0b4-fcd3-4a00-a9dd-136172179222"
      },
      "execution_count": null,
      "outputs": [
        {
          "output_type": "execute_result",
          "data": {
            "text/plain": [
              "{'v0': 0,\n",
              " 'v1': 80,\n",
              " 'v2': 50,\n",
              " 'v3': 10,\n",
              " 'v4': 70,\n",
              " 'v5': 60,\n",
              " 'v6': 30,\n",
              " 'v7': 20,\n",
              " 'v8': 40}"
            ]
          },
          "metadata": {},
          "execution_count": 26
        }
      ]
    },
    {
      "cell_type": "markdown",
      "source": [
        "Y hacemos la prueba"
      ],
      "metadata": {
        "id": "CSRR4_s9-4WS"
      }
    },
    {
      "cell_type": "code",
      "source": [
        "resul=Extract(k, f,float('inf'))"
      ],
      "metadata": {
        "id": "kdrrZxuh-3r7"
      },
      "execution_count": null,
      "outputs": []
    },
    {
      "cell_type": "code",
      "source": [
        "print(len(resul[0]))"
      ],
      "metadata": {
        "colab": {
          "base_uri": "https://localhost:8080/"
        },
        "id": "8548tzqQKaLU",
        "outputId": "d291911f-89bd-4510-b3e0-ecc93eeaa22b"
      },
      "execution_count": null,
      "outputs": [
        {
          "output_type": "stream",
          "name": "stdout",
          "text": [
            "25\n"
          ]
        }
      ]
    },
    {
      "cell_type": "code",
      "source": [
        "for e in resul[0]:\n",
        "  print(e)\n",
        "for e in (resul[0]):\n",
        "  strng = e + \" : \"\n",
        "  for x in e.split(\"_\"):\n",
        "    strng = strng  + \"{}\".format(f[x]) + \",\"\n",
        "  strng = strng + \"\\n-----------------\\n\"\n",
        "  print(strng)"
      ],
      "metadata": {
        "colab": {
          "base_uri": "https://localhost:8080/"
        },
        "id": "yMz36OYHAhf4",
        "outputId": "5372ed87-af22-4b7e-bdef-79b33690b9e1"
      },
      "execution_count": null,
      "outputs": [
        {
          "output_type": "stream",
          "name": "stdout",
          "text": [
            "v1\n",
            "v1_v0\n",
            "v1_v7\n",
            "v1_v5\n",
            "v1_v4\n",
            "v1_v2\n",
            "v4\n",
            "v4_v7\n",
            "v4_v0\n",
            "v4_v6\n",
            "v4_v8\n",
            "v7\n",
            "v2\n",
            "v2_v0\n",
            "v2_v6\n",
            "v2_v3\n",
            "v2_v8\n",
            "v8\n",
            "v3\n",
            "v5\n",
            "v5_v0\n",
            "v5_v3\n",
            "v5_v7\n",
            "v5_v8\n",
            "v6\n",
            "v1 : 80,\n",
            "-----------------\n",
            "\n",
            "v1_v0 : 80,0,\n",
            "-----------------\n",
            "\n",
            "v1_v7 : 80,20,\n",
            "-----------------\n",
            "\n",
            "v1_v5 : 80,60,\n",
            "-----------------\n",
            "\n",
            "v1_v4 : 80,70,\n",
            "-----------------\n",
            "\n",
            "v1_v2 : 80,50,\n",
            "-----------------\n",
            "\n",
            "v4 : 70,\n",
            "-----------------\n",
            "\n",
            "v4_v7 : 70,20,\n",
            "-----------------\n",
            "\n",
            "v4_v0 : 70,0,\n",
            "-----------------\n",
            "\n",
            "v4_v6 : 70,30,\n",
            "-----------------\n",
            "\n",
            "v4_v8 : 70,40,\n",
            "-----------------\n",
            "\n",
            "v7 : 20,\n",
            "-----------------\n",
            "\n",
            "v2 : 50,\n",
            "-----------------\n",
            "\n",
            "v2_v0 : 50,0,\n",
            "-----------------\n",
            "\n",
            "v2_v6 : 50,30,\n",
            "-----------------\n",
            "\n",
            "v2_v3 : 50,10,\n",
            "-----------------\n",
            "\n",
            "v2_v8 : 50,40,\n",
            "-----------------\n",
            "\n",
            "v8 : 40,\n",
            "-----------------\n",
            "\n",
            "v3 : 10,\n",
            "-----------------\n",
            "\n",
            "v5 : 60,\n",
            "-----------------\n",
            "\n",
            "v5_v0 : 60,0,\n",
            "-----------------\n",
            "\n",
            "v5_v3 : 60,10,\n",
            "-----------------\n",
            "\n",
            "v5_v7 : 60,20,\n",
            "-----------------\n",
            "\n",
            "v5_v8 : 60,40,\n",
            "-----------------\n",
            "\n",
            "v6 : 30,\n",
            "-----------------\n",
            "\n"
          ]
        }
      ]
    },
    {
      "cell_type": "code",
      "source": [
        "print(len(resul[1]))"
      ],
      "metadata": {
        "colab": {
          "base_uri": "https://localhost:8080/"
        },
        "id": "eoZ1D4F5KWpP",
        "outputId": "550e3238-132d-4979-c31a-cd4bb0148c87"
      },
      "execution_count": null,
      "outputs": [
        {
          "output_type": "stream",
          "name": "stdout",
          "text": [
            "25\n"
          ]
        }
      ]
    },
    {
      "cell_type": "code",
      "source": [
        "for e in resul[1]:\n",
        "  print(e)\n",
        "for e in (resul[1]):\n",
        "  strng = e + \" : \"\n",
        "  for x in e.split(\"_\"):\n",
        "    strng = strng  + \"{}\".format(f[x]) + \",\"\n",
        "  strng = strng + \"\\n-----------------\\n\"\n",
        "  print(strng)"
      ],
      "metadata": {
        "colab": {
          "base_uri": "https://localhost:8080/"
        },
        "id": "M0qbV5VrIh2Q",
        "outputId": "2b9d7c17-2e86-4baf-b86b-e02f3130581e"
      },
      "execution_count": null,
      "outputs": [
        {
          "output_type": "stream",
          "name": "stdout",
          "text": [
            "v1_v6\n",
            "v1_v4_v0\n",
            "v1_v2_v7\n",
            "v1_v5_v0\n",
            "v1_v4_v7\n",
            "v1_v2_v6\n",
            "v4_v3\n",
            "v4_v7_v3\n",
            "v4_v8_v0\n",
            "v4_v6_v3\n",
            "v4_v8_v6\n",
            "v7_v3\n",
            "v2_v7\n",
            "v2_v8_v0\n",
            "v2_v6_v3\n",
            "v2_v3_v0\n",
            "v2_v8_v7\n",
            "v8_v0\n",
            "v3_v0\n",
            "v5_v6\n",
            "v5_v3_v0\n",
            "v5_v7_v3\n",
            "v5_v8_v7\n",
            "v5_v8_v6\n",
            "v6_v3\n",
            "v1_v6 : 80,30,\n",
            "-----------------\n",
            "\n",
            "v1_v4_v0 : 80,70,0,\n",
            "-----------------\n",
            "\n",
            "v1_v2_v7 : 80,50,20,\n",
            "-----------------\n",
            "\n",
            "v1_v5_v0 : 80,60,0,\n",
            "-----------------\n",
            "\n",
            "v1_v4_v7 : 80,70,20,\n",
            "-----------------\n",
            "\n",
            "v1_v2_v6 : 80,50,30,\n",
            "-----------------\n",
            "\n",
            "v4_v3 : 70,10,\n",
            "-----------------\n",
            "\n",
            "v4_v7_v3 : 70,20,10,\n",
            "-----------------\n",
            "\n",
            "v4_v8_v0 : 70,40,0,\n",
            "-----------------\n",
            "\n",
            "v4_v6_v3 : 70,30,10,\n",
            "-----------------\n",
            "\n",
            "v4_v8_v6 : 70,40,30,\n",
            "-----------------\n",
            "\n",
            "v7_v3 : 20,10,\n",
            "-----------------\n",
            "\n",
            "v2_v7 : 50,20,\n",
            "-----------------\n",
            "\n",
            "v2_v8_v0 : 50,40,0,\n",
            "-----------------\n",
            "\n",
            "v2_v6_v3 : 50,30,10,\n",
            "-----------------\n",
            "\n",
            "v2_v3_v0 : 50,10,0,\n",
            "-----------------\n",
            "\n",
            "v2_v8_v7 : 50,40,20,\n",
            "-----------------\n",
            "\n",
            "v8_v0 : 40,0,\n",
            "-----------------\n",
            "\n",
            "v3_v0 : 10,0,\n",
            "-----------------\n",
            "\n",
            "v5_v6 : 60,30,\n",
            "-----------------\n",
            "\n",
            "v5_v3_v0 : 60,10,0,\n",
            "-----------------\n",
            "\n",
            "v5_v7_v3 : 60,20,10,\n",
            "-----------------\n",
            "\n",
            "v5_v8_v7 : 60,40,20,\n",
            "-----------------\n",
            "\n",
            "v5_v8_v6 : 60,40,30,\n",
            "-----------------\n",
            "\n",
            "v6_v3 : 30,10,\n",
            "-----------------\n",
            "\n"
          ]
        }
      ]
    },
    {
      "cell_type": "code",
      "source": [
        "for e in resul[2]:\n",
        "  print(e)\n",
        "print(\"-----------------\")\n",
        "for e in (resul[2]):\n",
        "  strng = e + \" : \"\n",
        "  for x in e.split(\"_\"):\n",
        "    strng = strng + \"{}\".format(f[x]) + \",\"\n",
        "  strng = strng + \"\\n-----------------\\n\"\n",
        "  print(strng)"
      ],
      "metadata": {
        "colab": {
          "base_uri": "https://localhost:8080/"
        },
        "id": "dMYWdog9ibUV",
        "outputId": "6c44821e-7694-4a70-b35a-22c41c98328d"
      },
      "execution_count": null,
      "outputs": [
        {
          "output_type": "stream",
          "name": "stdout",
          "text": [
            "v0\n",
            "v1_v5_v6\n",
            "v8_v7\n",
            "v8_v6\n",
            "-----------------\n",
            "v0 : 0,\n",
            "-----------------\n",
            "\n",
            "v1_v5_v6 : 80,60,30,\n",
            "-----------------\n",
            "\n",
            "v8_v7 : 40,20,\n",
            "-----------------\n",
            "\n",
            "v8_v6 : 40,30,\n",
            "-----------------\n",
            "\n"
          ]
        }
      ]
    },
    {
      "cell_type": "code",
      "source": [
        "print(len(resul[2]))"
      ],
      "metadata": {
        "colab": {
          "base_uri": "https://localhost:8080/"
        },
        "id": "9I930RSNOVUh",
        "outputId": "30504270-b2b5-4170-c40d-60072cb23fc5"
      },
      "execution_count": null,
      "outputs": [
        {
          "output_type": "stream",
          "name": "stdout",
          "text": [
            "4\n"
          ]
        }
      ]
    },
    {
      "cell_type": "code",
      "source": [
        "print(len(resul[3].items()))"
      ],
      "metadata": {
        "colab": {
          "base_uri": "https://localhost:8080/"
        },
        "id": "HwVrAwUNKQnp",
        "outputId": "1bec8a73-34bf-4f8d-facb-6e886632db8c"
      },
      "execution_count": null,
      "outputs": [
        {
          "output_type": "stream",
          "name": "stdout",
          "text": [
            "25\n"
          ]
        }
      ]
    },
    {
      "cell_type": "code",
      "source": [
        "for e in (resul[3].items()):\n",
        "  print(e)\n",
        "for e in (resul[3].items()):\n",
        "  strng = e[0] + \" : \"\n",
        "  for x in e[0].split(\"_\"):\n",
        "    strng = strng + \"{}\".format(f[x]) + \",\"\n",
        "  strng = strng + \" ==> \" + e[1] + \" : \"\n",
        "  for x in e[1].split(\"_\"):\n",
        "    strng = strng + \"{}\".format(f[x]) + \",\"\n",
        "  strng = strng + \"\\n-----------------\\n\"\n",
        "  print(strng)"
      ],
      "metadata": {
        "colab": {
          "base_uri": "https://localhost:8080/"
        },
        "id": "fEmvhLTwidUY",
        "outputId": "ff672036-f475-4968-ee58-6bfbf961e20d"
      },
      "execution_count": null,
      "outputs": [
        {
          "output_type": "stream",
          "name": "stdout",
          "text": [
            "('v1_v6', 'v1')\n",
            "('v1_v4_v0', 'v1_v0')\n",
            "('v1_v2_v7', 'v1_v7')\n",
            "('v1_v5_v0', 'v1_v5')\n",
            "('v1_v4_v7', 'v1_v4')\n",
            "('v1_v2_v6', 'v1_v2')\n",
            "('v4_v3', 'v4')\n",
            "('v4_v7_v3', 'v4_v7')\n",
            "('v4_v8_v0', 'v4_v0')\n",
            "('v4_v6_v3', 'v4_v6')\n",
            "('v4_v8_v6', 'v4_v8')\n",
            "('v7_v3', 'v7')\n",
            "('v2_v7', 'v2')\n",
            "('v2_v8_v0', 'v2_v0')\n",
            "('v2_v6_v3', 'v2_v6')\n",
            "('v2_v3_v0', 'v2_v3')\n",
            "('v2_v8_v7', 'v2_v8')\n",
            "('v8_v0', 'v8')\n",
            "('v3_v0', 'v3')\n",
            "('v5_v6', 'v5')\n",
            "('v5_v3_v0', 'v5_v0')\n",
            "('v5_v7_v3', 'v5_v3')\n",
            "('v5_v8_v7', 'v5_v7')\n",
            "('v5_v8_v6', 'v5_v8')\n",
            "('v6_v3', 'v6')\n",
            "v1_v6 : 80,30, ==> v1 : 80,\n",
            "-----------------\n",
            "\n",
            "v1_v4_v0 : 80,70,0, ==> v1_v0 : 80,0,\n",
            "-----------------\n",
            "\n",
            "v1_v2_v7 : 80,50,20, ==> v1_v7 : 80,20,\n",
            "-----------------\n",
            "\n",
            "v1_v5_v0 : 80,60,0, ==> v1_v5 : 80,60,\n",
            "-----------------\n",
            "\n",
            "v1_v4_v7 : 80,70,20, ==> v1_v4 : 80,70,\n",
            "-----------------\n",
            "\n",
            "v1_v2_v6 : 80,50,30, ==> v1_v2 : 80,50,\n",
            "-----------------\n",
            "\n",
            "v4_v3 : 70,10, ==> v4 : 70,\n",
            "-----------------\n",
            "\n",
            "v4_v7_v3 : 70,20,10, ==> v4_v7 : 70,20,\n",
            "-----------------\n",
            "\n",
            "v4_v8_v0 : 70,40,0, ==> v4_v0 : 70,0,\n",
            "-----------------\n",
            "\n",
            "v4_v6_v3 : 70,30,10, ==> v4_v6 : 70,30,\n",
            "-----------------\n",
            "\n",
            "v4_v8_v6 : 70,40,30, ==> v4_v8 : 70,40,\n",
            "-----------------\n",
            "\n",
            "v7_v3 : 20,10, ==> v7 : 20,\n",
            "-----------------\n",
            "\n",
            "v2_v7 : 50,20, ==> v2 : 50,\n",
            "-----------------\n",
            "\n",
            "v2_v8_v0 : 50,40,0, ==> v2_v0 : 50,0,\n",
            "-----------------\n",
            "\n",
            "v2_v6_v3 : 50,30,10, ==> v2_v6 : 50,30,\n",
            "-----------------\n",
            "\n",
            "v2_v3_v0 : 50,10,0, ==> v2_v3 : 50,10,\n",
            "-----------------\n",
            "\n",
            "v2_v8_v7 : 50,40,20, ==> v2_v8 : 50,40,\n",
            "-----------------\n",
            "\n",
            "v8_v0 : 40,0, ==> v8 : 40,\n",
            "-----------------\n",
            "\n",
            "v3_v0 : 10,0, ==> v3 : 10,\n",
            "-----------------\n",
            "\n",
            "v5_v6 : 60,30, ==> v5 : 60,\n",
            "-----------------\n",
            "\n",
            "v5_v3_v0 : 60,10,0, ==> v5_v0 : 60,0,\n",
            "-----------------\n",
            "\n",
            "v5_v7_v3 : 60,20,10, ==> v5_v3 : 60,10,\n",
            "-----------------\n",
            "\n",
            "v5_v8_v7 : 60,40,20, ==> v5_v7 : 60,20,\n",
            "-----------------\n",
            "\n",
            "v5_v8_v6 : 60,40,30, ==> v5_v8 : 60,40,\n",
            "-----------------\n",
            "\n",
            "v6_v3 : 30,10, ==> v6 : 30,\n",
            "-----------------\n",
            "\n"
          ]
        }
      ]
    }
  ]
}